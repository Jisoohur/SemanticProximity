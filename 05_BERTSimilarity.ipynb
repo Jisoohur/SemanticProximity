{
 "cells": [
  {
   "cell_type": "markdown",
   "metadata": {},
   "source": [
    "### Semantic Proximity Research\n",
    "- Made by: Dr. Jisoo Hur\n",
    "- Goal: 05. BERT-based Similarity Measurement\n",
    "- Data set: WoS"
   ]
  },
  {
   "cell_type": "code",
   "execution_count": null,
   "metadata": {},
   "outputs": [],
   "source": [
    "import pandas as pd\n",
    "from transformers import BertTokenizer, BertModel\n",
    "import torch\n",
    "import numpy as np\n",
    "from sklearn.metrics.pairwise import cosine_similarity\n",
    "from gensim.parsing.preprocessing import remove_stopwords\n",
    "\n",
    "# Load BERT model and tokenizer\n",
    "tokenizer = BertTokenizer.from_pretrained('bert-base-uncased')\n",
    "model = BertModel.from_pretrained('bert-base-uncased')\n",
    "\n",
    "# Load the datasets\n",
    "pub_data = pd.read_csv('pub_bertopic_chatgpt.csv')\n",
    "quantum_data = pd.read_csv('quantum_pub_bertopic_chatgpt.csv')\n",
    "\n",
    "# Function to get BERT embeddings\n",
    "def get_bert_embedding(text):\n",
    "    # Tokenize and encode the input text\n",
    "    inputs = tokenizer(text, return_tensors='pt', truncation=True, padding=True, max_length=512)\n",
    "    # Get the output from BERT\n",
    "    with torch.no_grad():\n",
    "        outputs = model(**inputs)\n",
    "    # Get the embeddings for the [CLS] token (the first token)\n",
    "    cls_embedding = outputs.last_hidden_state[:, 0, :]\n",
    "    return cls_embedding\n",
    "\n",
    "# Function to calculate BERT-based similarity\n",
    "def calculate_bert_similarity(df1, df2, region, period):\n",
    "    # Filter data by region and period\n",
    "    df1_filtered = df1[(df1['eu_nuts_id'] == region) & (df1['period'] == period)]\n",
    "    df2_filtered = df2[(df2['eu_nuts_id'] == region) & (df2['period'] == period)]\n",
    "    \n",
    "    # Check if both filtered datasets have data\n",
    "    if df1_filtered.empty or df2_filtered.empty:\n",
    "        return None  # Return None if there's no data for the given region and period\n",
    "    \n",
    "    # Concatenate the 'content' field to create a document for each set\n",
    "    doc1 = ' '.join(df1_filtered['content'].astype(str)).lower()\n",
    "    doc2 = ' '.join(df2_filtered['content'].astype(str)).lower()\n",
    "    \n",
    "    # Preprocess the documents by removing stopwords\n",
    "    doc1 = remove_stopwords(doc1)\n",
    "    doc2 = remove_stopwords(doc2)\n",
    "    \n",
    "    # Get BERT embeddings\n",
    "    embedding1 = get_bert_embedding(doc1)\n",
    "    embedding2 = get_bert_embedding(doc2)\n",
    "    \n",
    "    # Calculate cosine similarity\n",
    "    similarity = cosine_similarity(embedding1, embedding2)\n",
    "    \n",
    "    return similarity[0][0]  # Return the similarity score\n",
    "\n",
    "# Apply similarity calculation for each unique combination of region and period\n",
    "regions = pub_data['eu_nuts_id'].unique()\n",
    "periods = pub_data['period'].unique()\n",
    "\n",
    "results = []\n",
    "\n",
    "for region in regions:\n",
    "    for period in periods:\n",
    "        bert_score = calculate_bert_similarity(pub_data, quantum_data, region, period)\n",
    "        results.append({'eu_nuts_id': region, 'period': period, 'bert_similarity': bert_score})\n",
    "\n",
    "# Convert results to DataFrame\n",
    "similarity_df = pd.DataFrame(results)\n",
    "\n",
    "# Display or save the results\n",
    "print(similarity_df)"
   ]
  },
  {
   "cell_type": "code",
   "execution_count": null,
   "metadata": {},
   "outputs": [],
   "source": [
    "similarity_df.to_csv('similarity_bert.csv', index=False)"
   ]
  }
 ],
 "metadata": {
  "kernelspec": {
   "display_name": "base",
   "language": "python",
   "name": "python3"
  },
  "language_info": {
   "codemirror_mode": {
    "name": "ipython",
    "version": 3
   },
   "file_extension": ".py",
   "mimetype": "text/x-python",
   "name": "python",
   "nbconvert_exporter": "python",
   "pygments_lexer": "ipython3",
   "version": "3.11.7"
  }
 },
 "nbformat": 4,
 "nbformat_minor": 2
}
